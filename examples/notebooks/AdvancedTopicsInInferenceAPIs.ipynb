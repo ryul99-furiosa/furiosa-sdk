{
 "cells": [
  {
   "cell_type": "markdown",
   "metadata": {},
   "source": [
    "# Advanced Topics in Inference APIs\n",
    "\n",
    "This tutorial explains a little bit more advanced topics about Inference APIs. The followings are the main topics:\n",
    "* How to specify a NPU device including *NPU core fusion*.\n",
    "* Asynchronous and non-blocking inference API\n",
    "\n",
    "## Prerequisites\n",
    "To follow this tutorial, please install the following requisites.\n",
    "\n",
    "First, you must install NPU driver, firmware, and runtime by following the instruction at [FuriosaAI Driver, Firmware, Runtime Installation Guide](https://furiosa-ai.github.io/docs/latest/ko/software/installation.html).\n",
    "\n",
    "Then, please install the following python packages:\n",
    "```sh\n",
    "pip install furiosa-sdk matplotlib python-mnist\n",
    "```\n",
    "Or, you can run the following command to install all dependent packages for all notebook examples at once:\n",
    "```sh\n",
    "pip install -r requirements.txt\n",
    "```\n",
    "\n",
    "And then, let's check if your NPU device is ready as following:"
   ]
  },
  {
   "cell_type": "code",
   "execution_count": 1,
   "metadata": {
    "tags": []
   },
   "outputs": [
    {
     "name": "stdout",
     "output_type": "stream",
     "text": [
      "\u001b[0m+\u001b[0m\u001b[0m------\u001b[0m\u001b[0m+\u001b[0m\u001b[0m--------\u001b[0m\u001b[0m+\u001b[0m\u001b[0m----------------\u001b[0m\u001b[0m+\u001b[0m\u001b[0m-------\u001b[0m\u001b[0m+\u001b[0m\u001b[0m---------\u001b[0m\u001b[0m+\u001b[0m\u001b[0m--------------\u001b[0m\u001b[0m+\r\n",
      "\u001b[0m\u001b[0m\u001b[0m|\u001b[0m\u001b[0m \u001b[0m\u001b[0m\u001b[0m\u001b[1mNPU \u001b[0m \u001b[0m\u001b[0m|\u001b[0m\u001b[0m \u001b[0m\u001b[0m\u001b[0m\u001b[1mName  \u001b[0m \u001b[0m\u001b[0m|\u001b[0m\u001b[0m \u001b[0m\u001b[0m\u001b[0m\u001b[1mFirmware      \u001b[0m \u001b[0m\u001b[0m|\u001b[0m\u001b[0m \u001b[0m\u001b[0m\u001b[0m\u001b[1mTemp.\u001b[0m \u001b[0m\u001b[0m|\u001b[0m\u001b[0m \u001b[0m\u001b[0m\u001b[0m\u001b[1mPower  \u001b[0m \u001b[0m\u001b[0m|\u001b[0m\u001b[0m \u001b[0m\u001b[0m\u001b[0m\u001b[1mPCI-BDF     \u001b[0m \u001b[0m\u001b[0m|\u001b[0m\u001b[0m\r\n",
      "\u001b[0m\u001b[0m\u001b[0m+\u001b[0m\u001b[0m------\u001b[0m\u001b[0m+\u001b[0m\u001b[0m--------\u001b[0m\u001b[0m+\u001b[0m\u001b[0m----------------\u001b[0m\u001b[0m+\u001b[0m\u001b[0m-------\u001b[0m\u001b[0m+\u001b[0m\u001b[0m---------\u001b[0m\u001b[0m+\u001b[0m\u001b[0m--------------\u001b[0m\u001b[0m+\r\n",
      "\u001b[0m\u001b[0m\u001b[0m|\u001b[0m\u001b[0m \u001b[0m\u001b[0m\u001b[0mnpu0\u001b[0m \u001b[0m\u001b[0m|\u001b[0m\u001b[0m \u001b[0m\u001b[0m\u001b[0mwarboy\u001b[0m \u001b[0m\u001b[0m|\u001b[0m\u001b[0m \u001b[0m\u001b[0m\u001b[0m1.7.8, e9f371e\u001b[0m \u001b[0m\u001b[0m|\u001b[0m\u001b[0m \u001b[0m\u001b[0m\u001b[0m 42°C\u001b[0m \u001b[0m\u001b[0m|\u001b[0m\u001b[0m \u001b[0m\u001b[0m\u001b[0m10.60 W\u001b[0m \u001b[0m\u001b[0m|\u001b[0m\u001b[0m \u001b[0m\u001b[0m\u001b[0m0000:4f:00.0\u001b[0m \u001b[0m\u001b[0m|\u001b[0m\u001b[0m\r\n",
      "\u001b[0m\u001b[0m\u001b[0m+\u001b[0m\u001b[0m------\u001b[0m\u001b[0m+\u001b[0m\u001b[0m--------\u001b[0m\u001b[0m+\u001b[0m\u001b[0m----------------\u001b[0m\u001b[0m+\u001b[0m\u001b[0m-------\u001b[0m\u001b[0m+\u001b[0m\u001b[0m---------\u001b[0m\u001b[0m+\u001b[0m\u001b[0m--------------\u001b[0m\u001b[0m+\r\n",
      "\u001b[0m\u001b[0m\u001b[0m|\u001b[0m\u001b[0m \u001b[0m\u001b[0m\u001b[0mnpu1\u001b[0m \u001b[0m\u001b[0m|\u001b[0m\u001b[0m \u001b[0m\u001b[0m\u001b[0mwarboy\u001b[0m \u001b[0m\u001b[0m|\u001b[0m\u001b[0m \u001b[0m\u001b[0m\u001b[0m1.7.8, e9f371e\u001b[0m \u001b[0m\u001b[0m|\u001b[0m\u001b[0m \u001b[0m\u001b[0m\u001b[0m 44°C\u001b[0m \u001b[0m\u001b[0m|\u001b[0m\u001b[0m \u001b[0m\u001b[0m\u001b[0m11.26 W\u001b[0m \u001b[0m\u001b[0m|\u001b[0m\u001b[0m \u001b[0m\u001b[0m\u001b[0m0000:52:00.0\u001b[0m \u001b[0m\u001b[0m|\u001b[0m\u001b[0m\r\n",
      "\u001b[0m\u001b[0m\u001b[0m+\u001b[0m\u001b[0m------\u001b[0m\u001b[0m+\u001b[0m\u001b[0m--------\u001b[0m\u001b[0m+\u001b[0m\u001b[0m----------------\u001b[0m\u001b[0m+\u001b[0m\u001b[0m-------\u001b[0m\u001b[0m+\u001b[0m\u001b[0m---------\u001b[0m\u001b[0m+\u001b[0m\u001b[0m--------------\u001b[0m\u001b[0m+\r\n",
      "\u001b[0m\u001b[0m\u001b[0m|\u001b[0m\u001b[0m \u001b[0m\u001b[0m\u001b[0mnpu2\u001b[0m \u001b[0m\u001b[0m|\u001b[0m\u001b[0m \u001b[0m\u001b[0m\u001b[0mwarboy\u001b[0m \u001b[0m\u001b[0m|\u001b[0m\u001b[0m \u001b[0m\u001b[0m\u001b[0m1.7.8, e9f371e\u001b[0m \u001b[0m\u001b[0m|\u001b[0m\u001b[0m \u001b[0m\u001b[0m\u001b[0m 45°C\u001b[0m \u001b[0m\u001b[0m|\u001b[0m\u001b[0m \u001b[0m\u001b[0m\u001b[0m11.72 W\u001b[0m \u001b[0m\u001b[0m|\u001b[0m\u001b[0m \u001b[0m\u001b[0m\u001b[0m0000:53:00.0\u001b[0m \u001b[0m\u001b[0m|\u001b[0m\u001b[0m\r\n",
      "\u001b[0m\u001b[0m\u001b[0m+\u001b[0m\u001b[0m------\u001b[0m\u001b[0m+\u001b[0m\u001b[0m--------\u001b[0m\u001b[0m+\u001b[0m\u001b[0m----------------\u001b[0m\u001b[0m+\u001b[0m\u001b[0m-------\u001b[0m\u001b[0m+\u001b[0m\u001b[0m---------\u001b[0m\u001b[0m+\u001b[0m\u001b[0m--------------\u001b[0m\u001b[0m+\r\n",
      "\u001b[0m\u001b[0m\u001b[0m|\u001b[0m\u001b[0m \u001b[0m\u001b[0m\u001b[0mnpu3\u001b[0m \u001b[0m\u001b[0m|\u001b[0m\u001b[0m \u001b[0m\u001b[0m\u001b[0mwarboy\u001b[0m \u001b[0m\u001b[0m|\u001b[0m\u001b[0m \u001b[0m\u001b[0m\u001b[0m1.7.8, e9f371e\u001b[0m \u001b[0m\u001b[0m|\u001b[0m\u001b[0m \u001b[0m\u001b[0m\u001b[0m 45°C\u001b[0m \u001b[0m\u001b[0m|\u001b[0m\u001b[0m \u001b[0m\u001b[0m\u001b[0m11.55 W\u001b[0m \u001b[0m\u001b[0m|\u001b[0m\u001b[0m \u001b[0m\u001b[0m\u001b[0m0000:56:00.0\u001b[0m \u001b[0m\u001b[0m|\u001b[0m\u001b[0m\r\n",
      "\u001b[0m\u001b[0m\u001b[0m+\u001b[0m\u001b[0m------\u001b[0m\u001b[0m+\u001b[0m\u001b[0m--------\u001b[0m\u001b[0m+\u001b[0m\u001b[0m----------------\u001b[0m\u001b[0m+\u001b[0m\u001b[0m-------\u001b[0m\u001b[0m+\u001b[0m\u001b[0m---------\u001b[0m\u001b[0m+\u001b[0m\u001b[0m--------------\u001b[0m\u001b[0m+\r\n",
      "\u001b[0m\u001b[0m\u001b[0m|\u001b[0m\u001b[0m \u001b[0m\u001b[0m\u001b[0mnpu4\u001b[0m \u001b[0m\u001b[0m|\u001b[0m\u001b[0m \u001b[0m\u001b[0m\u001b[0mwarboy\u001b[0m \u001b[0m\u001b[0m|\u001b[0m\u001b[0m \u001b[0m\u001b[0m\u001b[0m1.7.8, e9f371e\u001b[0m \u001b[0m\u001b[0m|\u001b[0m\u001b[0m \u001b[0m\u001b[0m\u001b[0m 44°C\u001b[0m \u001b[0m\u001b[0m|\u001b[0m\u001b[0m \u001b[0m\u001b[0m\u001b[0m10.28 W\u001b[0m \u001b[0m\u001b[0m|\u001b[0m\u001b[0m \u001b[0m\u001b[0m\u001b[0m0000:57:00.0\u001b[0m \u001b[0m\u001b[0m|\u001b[0m\u001b[0m\r\n",
      "\u001b[0m\u001b[0m\u001b[0m+\u001b[0m\u001b[0m------\u001b[0m\u001b[0m+\u001b[0m\u001b[0m--------\u001b[0m\u001b[0m+\u001b[0m\u001b[0m----------------\u001b[0m\u001b[0m+\u001b[0m\u001b[0m-------\u001b[0m\u001b[0m+\u001b[0m\u001b[0m---------\u001b[0m\u001b[0m+\u001b[0m\u001b[0m--------------\u001b[0m\u001b[0m+\r\n",
      "\u001b[0m\u001b[0m\u001b[0m|\u001b[0m\u001b[0m \u001b[0m\u001b[0m\u001b[0mnpu5\u001b[0m \u001b[0m\u001b[0m|\u001b[0m\u001b[0m \u001b[0m\u001b[0m\u001b[0mwarboy\u001b[0m \u001b[0m\u001b[0m|\u001b[0m\u001b[0m \u001b[0m\u001b[0m\u001b[0m1.7.8, e9f371e\u001b[0m \u001b[0m\u001b[0m|\u001b[0m\u001b[0m \u001b[0m\u001b[0m\u001b[0m 44°C\u001b[0m \u001b[0m\u001b[0m|\u001b[0m\u001b[0m \u001b[0m\u001b[0m\u001b[0m19.53 W\u001b[0m \u001b[0m\u001b[0m|\u001b[0m\u001b[0m \u001b[0m\u001b[0m\u001b[0m0000:98:00.0\u001b[0m \u001b[0m\u001b[0m|\u001b[0m\u001b[0m\r\n",
      "\u001b[0m\u001b[0m\u001b[0m+\u001b[0m\u001b[0m------\u001b[0m\u001b[0m+\u001b[0m\u001b[0m--------\u001b[0m\u001b[0m+\u001b[0m\u001b[0m----------------\u001b[0m\u001b[0m+\u001b[0m\u001b[0m-------\u001b[0m\u001b[0m+\u001b[0m\u001b[0m---------\u001b[0m\u001b[0m+\u001b[0m\u001b[0m--------------\u001b[0m\u001b[0m+\r\n",
      "\u001b[0m\u001b[0m\u001b[0m|\u001b[0m\u001b[0m \u001b[0m\u001b[0m\u001b[0mnpu6\u001b[0m \u001b[0m\u001b[0m|\u001b[0m\u001b[0m \u001b[0m\u001b[0m\u001b[0mwarboy\u001b[0m \u001b[0m\u001b[0m|\u001b[0m\u001b[0m \u001b[0m\u001b[0m\u001b[0m1.7.8, e9f371e\u001b[0m \u001b[0m\u001b[0m|\u001b[0m\u001b[0m \u001b[0m\u001b[0m\u001b[0m 42°C\u001b[0m \u001b[0m\u001b[0m|\u001b[0m\u001b[0m \u001b[0m\u001b[0m\u001b[0m15.37 W\u001b[0m \u001b[0m\u001b[0m|\u001b[0m\u001b[0m \u001b[0m\u001b[0m\u001b[0m0000:ce:00.0\u001b[0m \u001b[0m\u001b[0m|\u001b[0m\u001b[0m\r\n",
      "\u001b[0m\u001b[0m\u001b[0m+\u001b[0m\u001b[0m------\u001b[0m\u001b[0m+\u001b[0m\u001b[0m--------\u001b[0m\u001b[0m+\u001b[0m\u001b[0m----------------\u001b[0m\u001b[0m+\u001b[0m\u001b[0m-------\u001b[0m\u001b[0m+\u001b[0m\u001b[0m---------\u001b[0m\u001b[0m+\u001b[0m\u001b[0m--------------\u001b[0m\u001b[0m+\r\n",
      "\u001b[0m\u001b[0m\u001b[0m|\u001b[0m\u001b[0m \u001b[0m\u001b[0m\u001b[0mnpu7\u001b[0m \u001b[0m\u001b[0m|\u001b[0m\u001b[0m \u001b[0m\u001b[0m\u001b[0mwarboy\u001b[0m \u001b[0m\u001b[0m|\u001b[0m\u001b[0m \u001b[0m\u001b[0m\u001b[0m1.7.8, e9f371e\u001b[0m \u001b[0m\u001b[0m|\u001b[0m\u001b[0m \u001b[0m\u001b[0m\u001b[0m 43°C\u001b[0m \u001b[0m\u001b[0m|\u001b[0m\u001b[0m \u001b[0m\u001b[0m\u001b[0m17.87 W\u001b[0m \u001b[0m\u001b[0m|\u001b[0m\u001b[0m \u001b[0m\u001b[0m\u001b[0m0000:d1:00.0\u001b[0m \u001b[0m\u001b[0m|\u001b[0m\u001b[0m\r\n",
      "\u001b[0m\u001b[0m\u001b[0m+\u001b[0m\u001b[0m------\u001b[0m\u001b[0m+\u001b[0m\u001b[0m--------\u001b[0m\u001b[0m+\u001b[0m\u001b[0m----------------\u001b[0m\u001b[0m+\u001b[0m\u001b[0m-------\u001b[0m\u001b[0m+\u001b[0m\u001b[0m---------\u001b[0m\u001b[0m+\u001b[0m\u001b[0m--------------\u001b[0m\u001b[0m+\r\n",
      "\u001b[0m\u001b[0m\u001b[0m|\u001b[0m\u001b[0m \u001b[0m\u001b[0m\u001b[0mnpu8\u001b[0m \u001b[0m\u001b[0m|\u001b[0m\u001b[0m \u001b[0m\u001b[0m\u001b[0mwarboy\u001b[0m \u001b[0m\u001b[0m|\u001b[0m\u001b[0m \u001b[0m\u001b[0m\u001b[0m1.7.8, e9f371e\u001b[0m \u001b[0m\u001b[0m|\u001b[0m\u001b[0m \u001b[0m\u001b[0m\u001b[0m 44°C\u001b[0m \u001b[0m\u001b[0m|\u001b[0m\u001b[0m \u001b[0m\u001b[0m\u001b[0m11.96 W\u001b[0m \u001b[0m\u001b[0m|\u001b[0m\u001b[0m \u001b[0m\u001b[0m\u001b[0m0000:d5:00.0\u001b[0m \u001b[0m\u001b[0m|\u001b[0m\u001b[0m\r\n",
      "\u001b[0m\u001b[0m\u001b[0m+\u001b[0m\u001b[0m------\u001b[0m\u001b[0m+\u001b[0m\u001b[0m--------\u001b[0m\u001b[0m+\u001b[0m\u001b[0m----------------\u001b[0m\u001b[0m+\u001b[0m\u001b[0m-------\u001b[0m\u001b[0m+\u001b[0m\u001b[0m---------\u001b[0m\u001b[0m+\u001b[0m\u001b[0m--------------\u001b[0m\u001b[0m+\r\n",
      "\u001b[0m\u001b[0m\u001b[0m|\u001b[0m\u001b[0m \u001b[0m\u001b[0m\u001b[0mnpu9\u001b[0m \u001b[0m\u001b[0m|\u001b[0m\u001b[0m \u001b[0m\u001b[0m\u001b[0mwarboy\u001b[0m \u001b[0m\u001b[0m|\u001b[0m\u001b[0m \u001b[0m\u001b[0m\u001b[0m1.7.8, e9f371e\u001b[0m \u001b[0m\u001b[0m|\u001b[0m\u001b[0m \u001b[0m\u001b[0m\u001b[0m 43°C\u001b[0m \u001b[0m\u001b[0m|\u001b[0m\u001b[0m \u001b[0m\u001b[0m\u001b[0m15.86 W\u001b[0m \u001b[0m\u001b[0m|\u001b[0m\u001b[0m \u001b[0m\u001b[0m\u001b[0m0000:d6:00.0\u001b[0m \u001b[0m\u001b[0m|\u001b[0m\u001b[0m\r\n",
      "\u001b[0m\u001b[0m\u001b[0m+\u001b[0m\u001b[0m------\u001b[0m\u001b[0m+\u001b[0m\u001b[0m--------\u001b[0m\u001b[0m+\u001b[0m\u001b[0m----------------\u001b[0m\u001b[0m+\u001b[0m\u001b[0m-------\u001b[0m\u001b[0m+\u001b[0m\u001b[0m---------\u001b[0m\u001b[0m+\u001b[0m\u001b[0m--------------\u001b[0m\u001b[0m+\r\n",
      "\u001b[0m\u001b[0m"
     ]
    }
   ],
   "source": [
    "!furiosactl info"
   ]
  },
  {
   "cell_type": "markdown",
   "metadata": {},
   "source": [
    "Then, let's make sure that your SDK is ready to run immediately by running the following command. If you see any error here, please follow the instructions at\n",
    "* [FuriosaAI Driver, Firmware, Runtime Installation Guide](https://furiosa-ai.github.io/docs/v0.5.0/ko/software/installation.html)\n",
    "* [Setting up a Python Environment](https://furiosa-ai.github.io/docs/v0.5.0/ko/software/python-sdk.html#python)"
   ]
  },
  {
   "cell_type": "code",
   "execution_count": 2,
   "metadata": {},
   "outputs": [
    {
     "name": "stdout",
     "output_type": "stream",
     "text": [
      "Furiosa SDK Runtime 0.10.1-release (rev: 23336d5) (furiosa-rt 0.10.3 394c19392 2023-11-22T08:53:04Z)\r\n"
     ]
    }
   ],
   "source": [
    "!python -c \"from furiosa import runtime;print(runtime.__full_version__)\""
   ]
  },
  {
   "cell_type": "markdown",
   "metadata": {},
   "source": [
    "## How to Specify a NPU device"
   ]
  },
  {
   "cell_type": "markdown",
   "metadata": {},
   "source": [
    "You may need to specify a NPU device for your applications in the following cases:\n",
    "* Case A: when you have more than one NPU devices\n",
    "* Case B: if you want to use individual PEs separately for smaller DNN applications or a single fusioned PE\n",
    "\n",
    "FuriosaAI SDK provides a couple of ways to specify a NPU device that your application uses. In this section, we are going to explain this feature."
   ]
  },
  {
   "cell_type": "markdown",
   "metadata": {},
   "source": [
    "### Understanding NPU IDs\n",
    "\n",
    "NPU IDs are used across all of furioaAI SDK components. So, you need to understand how a NPU device is represented as a single NPU ID string.\n",
    "\n",
    "`npu0`, `npu1`, `npuN` represents a single NPU device. The last digit number starts from 0, and can be increased sequentially as you add more NPUS to your machine. There are individual 2 PEs in a single NPU device. They are individually represented as `pe0` and `pe1`.\n",
    "\n",
    "Usually, a NPU ID can represent both a certain NPU device and certain PE(s). For example, if you have 2 NPU devices and want to list all available individual PEs, they are represented by:\n",
    "* `npu0pe0`\n",
    "* `npu0pe1`\n",
    "* `npu1pe0`\n",
    "* `npu1pe1`\n",
    "\n",
    "In Warboy, you are able to fuse 2 PEs belonging to the same NPU. 2 fused NPUs are represented by:\n",
    "* `npu0pe0-1`\n",
    "* `npu1pe0-1`"
   ]
  },
  {
   "cell_type": "markdown",
   "metadata": {},
   "source": [
    "### Using Shell Environment Variable to Specify a NPU device"
   ]
  },
  {
   "cell_type": "markdown",
   "metadata": {},
   "source": [
    "All of FuriosaAI SDKs recognize the shell environment variable `NPU_DEVNAME`. If you specify `NPU_DEVNAME` in your shell, your application will use the NPU device specified in `NPU_DEVNAME`. For example, you can specify a NPU device in your shell as following:\n",
    "\n",
    "```sh\n",
    "export NPU_DEVNAME=\"npu0pe0\"\n",
    "```\n",
    "\n",
    "Please note that a single NPU device is occupied while another application is using the device. So, you cannot run multiple applications with the same `NPU_DEVNAME` setting."
   ]
  },
  {
   "cell_type": "markdown",
   "metadata": {},
   "source": [
    "### Using Function Option"
   ]
  },
  {
   "cell_type": "markdown",
   "metadata": {},
   "source": [
    "TODO: In Python SDK, `Session` is the core class to run inferences, and it allows various options. One of the options is `device`, allowing a user to specific a NPU device for the session. If you are not familar with `Session`, you can learn from [Getting Started With Python SDK](GettingStartedWithPythonSDK.ipynb).\n",
    "\n",
    "For example, you can specify a NPU device when you run `create_runner` / `create_queue`, as following:\n",
    "```python\n",
    "from furiosa.runtime import create_runner\n",
    "async with create_runner('mnist-8.onnx', device=\"npu0pe0\"): ...\n",
    "```\n",
    "\n",
    "Please note that a specific NPU device in Session option overrides the shell environment variable `NPU_DEVNAME`."
   ]
  },
  {
   "cell_type": "markdown",
   "metadata": {},
   "source": [
    "## Asynchronous Inference APIs"
   ]
  },
  {
   "cell_type": "markdown",
   "metadata": {},
   "source": [
    "Asynchronous Inference API allows an user application to handle multiple inference requests through a single thread.\n",
    "\n",
    "To use asynchronous inference APIs, please use `furiosa.runtime` instead of `furiosa.runtime.sync`.\n",
    "\n",
    "Also, there is `queue` API in asynchronous inference API. This separates input queue and output queue."
   ]
  },
  {
   "cell_type": "code",
   "execution_count": 11,
   "metadata": {},
   "outputs": [
    {
     "name": "stdout",
     "output_type": "stream",
     "text": [
      "--2024-11-05 14:39:29--  http://www.di.ens.fr/~lelarge/MNIST.tar.gz\n",
      "Resolving www.di.ens.fr (www.di.ens.fr)... 129.199.99.14\n",
      "Connecting to www.di.ens.fr (www.di.ens.fr)|129.199.99.14|:80... connected.\n",
      "HTTP request sent, awaiting response... 302 Found\n",
      "Location: https://www.di.ens.fr/~lelarge/MNIST.tar.gz [following]\n",
      "--2024-11-05 14:39:30--  https://www.di.ens.fr/~lelarge/MNIST.tar.gz\n",
      "Connecting to www.di.ens.fr (www.di.ens.fr)|129.199.99.14|:443... connected.\n",
      "HTTP request sent, awaiting response... 200 OK\n",
      "Length: unspecified [application/x-gzip]\n",
      "Saving to: ‘MNIST.tar.gz’\n",
      "\n",
      "MNIST.tar.gz            [              <=>   ]  33.20M  6.44MB/s    in 5.2s    \n",
      "\n",
      "2024-11-05 14:39:36 (6.44 MB/s) - ‘MNIST.tar.gz’ saved [34813078]\n",
      "\n",
      "MNIST/\n",
      "MNIST/raw/\n",
      "MNIST/raw/train-labels-idx1-ubyte\n",
      "MNIST/raw/t10k-labels-idx1-ubyte.gz\n",
      "MNIST/raw/t10k-labels-idx1-ubyte\n",
      "MNIST/raw/t10k-images-idx3-ubyte.gz\n",
      "MNIST/raw/train-images-idx3-ubyte\n",
      "MNIST/raw/train-labels-idx1-ubyte.gz\n",
      "MNIST/raw/t10k-images-idx3-ubyte\n",
      "MNIST/raw/train-images-idx3-ubyte.gz\n",
      "MNIST/processed/\n",
      "MNIST/processed/training.pt\n",
      "MNIST/processed/test.pt\n"
     ]
    }
   ],
   "source": [
    "# download mnist dataset\n",
    "!wget www.di.ens.fr/~lelarge/MNIST.tar.gz\n",
    "!tar -zxvf MNIST.tar.gz"
   ]
  },
  {
   "cell_type": "code",
   "execution_count": 11,
   "metadata": {},
   "outputs": [
    {
     "name": "stdout",
     "output_type": "stream",
     "text": [
      "\u001b[2m2024-11-05T06:19:46.322284Z\u001b[0m \u001b[32m INFO\u001b[0m \u001b[2mfuriosa_rt_core::driver::event_driven::coord\u001b[0m\u001b[2m:\u001b[0m FuriosaRT (v0.10.3, rev: 394c19392, built at: 2023-11-22T08:53:04Z) bootstrapping ...\n",
      "\u001b[2m2024-11-05T06:19:46.324742Z\u001b[0m \u001b[32m INFO\u001b[0m \u001b[2mfuriosa_rt_core::driver::event_driven::coord\u001b[0m\u001b[2m:\u001b[0m Found furiosa-compiler (v0.10.1, rev: 8b00177, built at: 2024-05-28T06:18:01Z)\n",
      "\u001b[2m2024-11-05T06:19:46.324747Z\u001b[0m \u001b[32m INFO\u001b[0m \u001b[2mfuriosa_rt_core::driver::event_driven::coord\u001b[0m\u001b[2m:\u001b[0m Found libhal (type: warboy, v0.12.0, rev: 56530c0 built at: 2023-11-16T12:34:03Z)\n",
      "\u001b[2m2024-11-05T06:19:46.324749Z\u001b[0m \u001b[32m INFO\u001b[0m \u001b[2mfuriosa_rt_core::driver::event_driven::coord\u001b[0m\u001b[2m:\u001b[0m [Runtime-8] detected 1 NPU device(s):\n",
      "\u001b[2m2024-11-05T06:19:46.342628Z\u001b[0m \u001b[32m INFO\u001b[0m \u001b[2mfuriosa_rt_core::driver::event_driven::coord\u001b[0m\u001b[2m:\u001b[0m - [0] npu:5:0-1 (warboy-b0-2pe, 128dpes, firmware: 1.7.8, e9f371e)\n",
      "\u001b[2m2024-11-05T06:19:46.342814Z\u001b[0m \u001b[32m INFO\u001b[0m \u001b[2mfuriosa_rt_core::driver::event_driven::coord\u001b[0m\u001b[2m:\u001b[0m [Runtime-8] started\n",
      "\u001b[2m2024-11-05T06:19:46.344262Z\u001b[0m \u001b[32m INFO\u001b[0m \u001b[2mfuriosa::runtime\u001b[0m\u001b[2m:\u001b[0m Saving the compilation log into /home/changmin/.local/state/furiosa/logs/compiler-20241105151946-ug5zn2.log\n",
      "\u001b[2m2024-11-05T06:19:46.344619Z\u001b[0m \u001b[32m INFO\u001b[0m \u001b[2mfuriosa_rt_core::driver::event_driven::coord\u001b[0m\u001b[2m:\u001b[0m [Runtime-8] created Sess-fe48a3ac using npu:5:0-1\n",
      "\u001b[2m2024-11-05T06:19:46.372699Z\u001b[0m \u001b[32m INFO\u001b[0m \u001b[2mfuriosa_rt_core::driver::event_driven::coord\u001b[0m\u001b[2m:\u001b[0m [Sess-fe48a3ac] compiling the model (target: warboy-b0-2pe, 128dpes, file: MNIST_MobileNet_v2_uint8_quant_without_avgpool_softmax.tflite, size: 137.6 kiB)\n",
      "\u001b[2m2024-11-05T06:19:46.405762Z\u001b[0m \u001b[32m INFO\u001b[0m \u001b[2mfuriosa_rt_core::driver::event_driven::coord\u001b[0m\u001b[2m:\u001b[0m [Sess-fe48a3ac] the model compile is successful (took 0 secs)\n",
      "\u001b[2m2024-11-05T06:19:46.412434Z\u001b[0m \u001b[32m INFO\u001b[0m \u001b[2mfuriosa_rt_core::driver::event_driven::coord\u001b[0m\u001b[2m:\u001b[0m [Runtime-8] created 1 NPU threads on npu:5:0-1 (DRAM: 12.0 kiB/16.0 GiB, SRAM: 1.0 MiB/128.0 MiB)\n",
      "Submit data is done!\n",
      "Context: 38484, Predict: 0\n",
      "Context: 40927, Predict: 6\n",
      "Context: 38195, Predict: 1\n",
      "Context: 37680, Predict: 6\n",
      "Context: 27560, Predict: 1\n",
      "Inference is done!\n",
      "\u001b[2m2024-11-05T06:19:46.414561Z\u001b[0m \u001b[32m INFO\u001b[0m \u001b[2mfuriosa_rt_core::driver::event_driven::coord\u001b[0m\u001b[2m:\u001b[0m [Sess-fe48a3ac] terminated\n",
      "\u001b[2m2024-11-05T06:19:46.424402Z\u001b[0m \u001b[32m INFO\u001b[0m \u001b[2mfuriosa_rt_core::npu::raw\u001b[0m\u001b[2m:\u001b[0m NPU (npu:5:0-1) has been closed\n",
      "\u001b[2m2024-11-05T06:19:46.425718Z\u001b[0m \u001b[32m INFO\u001b[0m \u001b[2mfuriosa_rt_core::driver::event_driven::coord\u001b[0m\u001b[2m:\u001b[0m [Runtime-8] stopped\n"
     ]
    }
   ],
   "source": [
    "from furiosa.runtime import create_queue # <- async API\n",
    "from mnist import MNIST\n",
    "import numpy as np\n",
    "import random\n",
    "import asyncio\n",
    "\n",
    "model_path = \"models/MNIST_MobileNet_v2_uint8_quant_without_avgpool_softmax.tflite\"\n",
    "\n",
    "mndata = MNIST('./MNIST/raw/')\n",
    "train_images, train_labels = mndata.load_training()\n",
    "\n",
    "async with create_queue( # <- use `async with` statement to close queue automatically\n",
    "        model_path,\n",
    "        worker_num=1,\n",
    "        # Determine how many asynchronous requests you can submit\n",
    "        # without blocking.\n",
    "        input_queue_size=100,\n",
    "        output_queue_size=100\n",
    "    ) as (submitter, reciever):\n",
    "\n",
    "    async def submit_data():\n",
    "        # Submit the inference requests asynchronously\n",
    "        for i in range(0, 5):\n",
    "            idx = random.randint(0, 59999)\n",
    "            input = np.array(train_images[idx:idx+1], np.uint8).reshape(1, 28, 28, 1)\n",
    "            await submitter.submit(input, context=idx)\n",
    "\n",
    "    async def recieve_result():\n",
    "        # Receive the results asynchronously\n",
    "        for i in range(0, 5):\n",
    "            context, outputs = await reciever.recv()\n",
    "            print(f\"Context: {context}, Predict: {np.argmax(outputs[0])}\")\n",
    "\n",
    "    submitter_task = asyncio.create_task(submit_data())\n",
    "    reciever_task = asyncio.create_task(recieve_result())\n",
    "\n",
    "    await submitter_task\n",
    "    print(\"Submit data is done!\")\n",
    "    await reciever_task\n",
    "    print(\"Inference is done!\")"
   ]
  }
 ],
 "metadata": {
  "kernelspec": {
   "display_name": "Python 3 (ipykernel)",
   "language": "python",
   "name": "python3"
  },
  "language_info": {
   "codemirror_mode": {
    "name": "ipython",
    "version": 3
   },
   "file_extension": ".py",
   "mimetype": "text/x-python",
   "name": "python",
   "nbconvert_exporter": "python",
   "pygments_lexer": "ipython3",
   "version": "3.9.19"
  },
  "toc-autonumbering": false
 },
 "nbformat": 4,
 "nbformat_minor": 4
}
