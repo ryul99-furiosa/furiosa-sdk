{
 "cells": [
  {
   "cell_type": "markdown",
   "id": "4757890e",
   "metadata": {},
   "source": [
    "# How to Use Furiosa SDK from Start to Finish"
   ]
  },
  {
   "cell_type": "markdown",
   "id": "5e18c631",
   "metadata": {},
   "source": [
    "This notebook demonstrates how to use Furiosa SDK from start to finish."
   ]
  },
  {
   "cell_type": "markdown",
   "id": "7fe6a222",
   "metadata": {},
   "source": [
    "## Prerequisites"
   ]
  },
  {
   "cell_type": "markdown",
   "id": "51ae941d",
   "metadata": {},
   "source": [
    "The Furiosa SDK needs to have been installed. If not, it can be installed following instructions on https://furiosa-ai.github.io/docs/latest/ko/ (Korean) or https://furiosa-ai.github.io/docs/latest/en/ (English). The `torchvision` and `scipy` packages also need to be installed for this demonstration.\n",
    "\n",
    "```console\n",
    "$ pip install 'furiosa-sdk[quantizer]' torchvision scipy\n",
    "```"
   ]
  },
  {
   "cell_type": "code",
   "execution_count": 1,
   "id": "05ad42a3",
   "metadata": {},
   "outputs": [
    {
     "name": "stderr",
     "output_type": "stream",
     "text": [
      "libfuriosa_hal.so --- v0.11.0, built @ 43c901f\n"
     ]
    }
   ],
   "source": [
    "import time\n",
    "\n",
    "import numpy as np\n",
    "import onnx\n",
    "import torch\n",
    "import torchvision\n",
    "from torchvision import transforms\n",
    "import tqdm\n",
    "\n",
    "from furiosa.optimizer import optimize_model\n",
    "from furiosa.quantizer import quantize, Calibrator, CalibrationMethod\n",
    "from furiosa.runtime.sync import create_runner"
   ]
  },
  {
   "cell_type": "markdown",
   "id": "be267372",
   "metadata": {},
   "source": [
    "## Load PyTorch Model"
   ]
  },
  {
   "cell_type": "markdown",
   "id": "fe658629",
   "metadata": {},
   "source": [
    "As a running example, we employ the pre-trained ResNet-50 model from Torchvision."
   ]
  },
  {
   "cell_type": "code",
   "execution_count": 2,
   "id": "41c4c4c8",
   "metadata": {},
   "outputs": [],
   "source": [
    "torch_model = torchvision.models.resnet50(weights='DEFAULT')\n",
    "torch_model = torch_model.eval()  # Set the model to inference mode."
   ]
  },
  {
   "cell_type": "markdown",
   "id": "5ccc92f4",
   "metadata": {},
   "source": [
    "The ResNet50 model has been trained with the following preprocessing applied: https://pytorch.org/vision/stable/models.html We will use the same preprocessing for calibration and inference."
   ]
  },
  {
   "cell_type": "code",
   "execution_count": 3,
   "id": "af2d87de",
   "metadata": {},
   "outputs": [],
   "source": [
    "preprocess = transforms.Compose(\n",
    "    [\n",
    "        transforms.Resize(256),\n",
    "        transforms.CenterCrop(224),\n",
    "        transforms.ToTensor(),\n",
    "        transforms.Normalize(mean=[0.485, 0.456, 0.406], std=[0.229, 0.224, 0.225]),\n",
    "    ]\n",
    ")"
   ]
  },
  {
   "cell_type": "markdown",
   "id": "6914faff",
   "metadata": {},
   "source": [
    "## Export PyTorch Model to ONNX Model"
   ]
  },
  {
   "cell_type": "markdown",
   "id": "49d111c6",
   "metadata": {},
   "source": [
    "We call the `torch.onnx.export` function to export the PyTorch ResNet-50 model to an ONNX model. The function executes a PyTorch model provided as its first argument, recording a trace of what operators are used during the execution, and then converts those operators into ONNX equivalents. Because `torch.onnx.export` runs the model, we need to provide the function with an input tensor as its second argument, which can be random so long as it satisfies the shape and type of the model's input. As of Furiosa SDK v0.6, ONNX OpSet 12 is the most well-supported version."
   ]
  },
  {
   "cell_type": "code",
   "execution_count": 4,
   "id": "bc44be15",
   "metadata": {},
   "outputs": [],
   "source": [
    "# Generate a dummy input of the shape, (1, 3, 224, 224), of the model's input.\n",
    "dummy_input = (torch.randn(1, 3, 224, 224),)\n",
    "\n",
    "# Export the PyTorch model into an ONNX model.\n",
    "torch.onnx.export(\n",
    "    torch_model,  # PyTorch model to export\n",
    "    dummy_input,  # model input\n",
    "    \"resnet50.onnx\",  # where to save the exported ONNX model\n",
    "    opset_version=13,  # the ONNX OpSet version to export the model to\n",
    "    do_constant_folding=True,  # whether to execute constant folding for optimization\n",
    "    input_names=[\"input\"],  # the ONNX model's input names\n",
    "    output_names=[\"output\"],  # the ONNX model's output names\n",
    ")\n",
    "\n",
    "# Load the exported ONNX model.\n",
    "onnx_model = onnx.load_model(\"resnet50.onnx\")"
   ]
  },
  {
   "cell_type": "markdown",
   "id": "7b8d1ca4",
   "metadata": {},
   "source": [
    "## Load Dataset"
   ]
  },
  {
   "cell_type": "markdown",
   "id": "c6ca7b8a",
   "metadata": {},
   "source": [
    "We will use subsets of the ImageNet dataset for calibration and validation. \n",
    "\n",
    "You need to download `ILSVRC2012_img_val.tar` and `ILSVRC2012_devkit_t12.tar.gz` externally and place them in the `imagenet` directory. Torchvision cannot download the ImageNet dataset automatically because it is no longer publicly accessible: https://github.com/pytorch/vision/pull/1457.\n",
    "\n",
    "Note that it may take several minutes to run this step for the first time because it involves decompressing the archive files. It will take much less time to complete subsequently."
   ]
  },
  {
   "cell_type": "code",
   "execution_count": 5,
   "id": "2859ffa7",
   "metadata": {},
   "outputs": [],
   "source": [
    "imagenet = torchvision.datasets.ImageNet(\"imagenet\", split=\"val\", transform=preprocess)"
   ]
  },
  {
   "cell_type": "markdown",
   "id": "d28b5dab",
   "metadata": {},
   "source": [
    "## Calibrate and Quantize ONNX Model"
   ]
  },
  {
   "cell_type": "markdown",
   "id": "2aa54752",
   "metadata": {},
   "source": [
    "For quick demonstration, a small number of samples randomly chosen from the ImageNet dataset is used for calibration."
   ]
  },
  {
   "cell_type": "code",
   "execution_count": 6,
   "id": "a4cdd5ee",
   "metadata": {},
   "outputs": [],
   "source": [
    "calibration_dataset = torch.utils.data.Subset(imagenet, torch.randperm(len(imagenet))[:100])\n",
    "calibration_dataloader = torch.utils.data.DataLoader(calibration_dataset, batch_size=1)"
   ]
  },
  {
   "cell_type": "markdown",
   "id": "fe12c541",
   "metadata": {},
   "source": [
    "We call the `optimize_model` function to optimize onnx model, before calibration/quantization of the model."
   ]
  },
  {
   "cell_type": "code",
   "execution_count": 7,
   "id": "62213b37",
   "metadata": {},
   "outputs": [],
   "source": [
    "onnx_model = optimize_model(onnx_model)"
   ]
  },
  {
   "cell_type": "markdown",
   "id": "01a06eb1",
   "metadata": {},
   "source": [
    "We use Calibrator to calibrate the model with various CalibrationMethod (e.g. MIN_MAX_ASYM, ENTROPY_ASYM, ...)"
   ]
  },
  {
   "cell_type": "code",
   "execution_count": 8,
   "id": "87298551",
   "metadata": {},
   "outputs": [
    {
     "name": "stdout",
     "output_type": "stream",
     "text": [
      "Help on class Calibrator in module furiosa.quantizer.calibrator:\n",
      "\n",
      "class Calibrator(builtins.object)\n",
      " |  Calibrator(model: Union[onnx.onnx_ml_pb2.ModelProto, bytes], calibration_method: furiosa.quantizer.calibrator.CalibrationMethod, *, percentage: float = 99.99)\n",
      " |  \n",
      " |  Calibrator.\n",
      " |  \n",
      " |  This collects the values of tensors in an ONNX model and computes\n",
      " |  their ranges.\n",
      " |  \n",
      " |  Methods defined here:\n",
      " |  \n",
      " |  __init__(self, model: Union[onnx.onnx_ml_pb2.ModelProto, bytes], calibration_method: furiosa.quantizer.calibrator.CalibrationMethod, *, percentage: float = 99.99)\n",
      " |      Args:\n",
      " |          model (onnx.ModelProto or bytes): An ONNX model to\n",
      " |              calibrate.\n",
      " |          calibration_method (CalibrationMethod): A calibration\n",
      " |              method.\n",
      " |          percentage (float): A percentage to use with percentile\n",
      " |              calibration. Defaults to 99.99 (i.e. 99.99%-percentile\n",
      " |              calibration).\n",
      " |  \n",
      " |  collect_data(self, calibration_dataset: Iterable[Sequence[numpy.ndarray]]) -> None\n",
      " |      Collect the values of tensors that will be used for range\n",
      " |      computation.\n",
      " |      \n",
      " |      This can be called multiple times.\n",
      " |      \n",
      " |      Args:\n",
      " |          calibration_dataset (Iterable[Sequence[numpy.ndarray]]):\n",
      " |              An object that provides input data for the model one at\n",
      " |              a time.\n",
      " |  \n",
      " |  compute_range(self, verbose: bool = False) -> Dict[str, Tuple[float, float]]\n",
      " |      Estimate the ranges of the tensors on the basis of the collected\n",
      " |      data.\n",
      " |      \n",
      " |      Args:\n",
      " |          verbose (bool): Whether to show a progress bar, Defaults to\n",
      " |              False.\n",
      " |      \n",
      " |      Returns:\n",
      " |          Dict[str, Tuple[float, float]]: A dictionary that maps a\n",
      " |              tensor name to a tuple of the tensor's min and max.\n",
      " |  \n",
      " |  ----------------------------------------------------------------------\n",
      " |  Data descriptors defined here:\n",
      " |  \n",
      " |  __dict__\n",
      " |      dictionary for instance variables (if defined)\n",
      " |  \n",
      " |  __weakref__\n",
      " |      list of weak references to the object (if defined)\n",
      "\n"
     ]
    }
   ],
   "source": [
    "help(Calibrator)"
   ]
  },
  {
   "cell_type": "code",
   "execution_count": 9,
   "id": "b28912ba",
   "metadata": {},
   "outputs": [
    {
     "name": "stdout",
     "output_type": "stream",
     "text": [
      "Help on class CalibrationMethod in module furiosa.quantizer.calibrator:\n",
      "\n",
      "class CalibrationMethod(enum.IntEnum)\n",
      " |  CalibrationMethod(value, names=None, *, module=None, qualname=None, type=None, start=1)\n",
      " |  \n",
      " |  Calibration method.\n",
      " |  \n",
      " |  Attributes:\n",
      " |      MIN_MAX_ASYM (CalibrationMethod):\n",
      " |          Min-max calibration (Asymmetric).\n",
      " |      MIN_MAX_SYM (CalibrationMethod):\n",
      " |          Min-max calibration (Symmetric).\n",
      " |      ENTROPY_ASYM (CalibrationMethod):\n",
      " |          Entropy calibration (Aymmetric).\n",
      " |      ENTROPY_SYM (CalibrationMethod):\n",
      " |          Entropy calibration (Symmetric).\n",
      " |      PERCENTILE_ASYM (CalibrationMethod):\n",
      " |          Percentile calibration (Asymmetric).\n",
      " |      PERCENTILE_SYM (CalibrationMethod):\n",
      " |          Percentile calibration (Symmetric).\n",
      " |      MSE_ASYM (CalibrationMethod):\n",
      " |          Mean squared error (MSE) calibration (Asymmetric).\n",
      " |      MSE_SYM (CalibrationMethod):\n",
      " |          Mean squared error (MSE) calibration (Symmetric).\n",
      " |      SQNR_ASYM (CalibrationMethod):\n",
      " |          Signal-to-quantization-noise ratio (SQNR) calibration\n",
      " |          (Asymmetric).\n",
      " |      SQNR_SYM (CalibrationMethod):\n",
      " |          Signal-to-quantization-noise ratio (SQNR) calibration\n",
      " |          (Symmetric).\n",
      " |  \n",
      " |  Method resolution order:\n",
      " |      CalibrationMethod\n",
      " |      enum.IntEnum\n",
      " |      builtins.int\n",
      " |      enum.Enum\n",
      " |      builtins.object\n",
      " |  \n",
      " |  Data and other attributes defined here:\n",
      " |  \n",
      " |  ENTROPY_ASYM = <CalibrationMethod.ENTROPY_ASYM: 2>\n",
      " |  \n",
      " |  ENTROPY_SYM = <CalibrationMethod.ENTROPY_SYM: 3>\n",
      " |  \n",
      " |  MIN_MAX_ASYM = <CalibrationMethod.MIN_MAX_ASYM: 0>\n",
      " |  \n",
      " |  MIN_MAX_SYM = <CalibrationMethod.MIN_MAX_SYM: 1>\n",
      " |  \n",
      " |  MSE_ASYM = <CalibrationMethod.MSE_ASYM: 6>\n",
      " |  \n",
      " |  MSE_SYM = <CalibrationMethod.MSE_SYM: 7>\n",
      " |  \n",
      " |  PERCENTILE_ASYM = <CalibrationMethod.PERCENTILE_ASYM: 4>\n",
      " |  \n",
      " |  PERCENTILE_SYM = <CalibrationMethod.PERCENTILE_SYM: 5>\n",
      " |  \n",
      " |  SQNR_ASYM = <CalibrationMethod.SQNR_ASYM: 8>\n",
      " |  \n",
      " |  SQNR_SYM = <CalibrationMethod.SQNR_SYM: 9>\n",
      " |  \n",
      " |  ----------------------------------------------------------------------\n",
      " |  Data descriptors inherited from enum.Enum:\n",
      " |  \n",
      " |  name\n",
      " |      The name of the Enum member.\n",
      " |  \n",
      " |  value\n",
      " |      The value of the Enum member.\n",
      " |  \n",
      " |  ----------------------------------------------------------------------\n",
      " |  Readonly properties inherited from enum.EnumMeta:\n",
      " |  \n",
      " |  __members__\n",
      " |      Returns a mapping of member name->value.\n",
      " |      \n",
      " |      This mapping lists all enum members, including aliases. Note that this\n",
      " |      is a read-only view of the internal mapping.\n",
      "\n"
     ]
    }
   ],
   "source": [
    "help(CalibrationMethod)"
   ]
  },
  {
   "cell_type": "markdown",
   "id": "9d3ab912",
   "metadata": {},
   "source": [
    "Before the Calibrator actually computes the ranges, input data should be collected."
   ]
  },
  {
   "cell_type": "code",
   "execution_count": 10,
   "id": "d956cc57",
   "metadata": {},
   "outputs": [
    {
     "name": "stderr",
     "output_type": "stream",
     "text": [
      "Calibration: 100%|██████████████████████████████████████████████████████████████████████████████████████████████████████████████████████████████████████████████████████████████████████████████████████████| 100/100 [00:11<00:00,  8.51images/s]\n"
     ]
    }
   ],
   "source": [
    "calibrator = Calibrator(onnx_model, CalibrationMethod.MIN_MAX_ASYM)\n",
    "\n",
    "for calibration_data, _ in tqdm.tqdm(calibration_dataloader, desc=\"Calibration\", unit=\"images\", mininterval=0.5):\n",
    "    calibrator.collect_data([[calibration_data.numpy()]])"
   ]
  },
  {
   "cell_type": "code",
   "execution_count": 11,
   "id": "09e09fb1",
   "metadata": {},
   "outputs": [],
   "source": [
    "ranges = calibrator.compute_range()"
   ]
  },
  {
   "cell_type": "markdown",
   "id": "d1748170",
   "metadata": {},
   "source": [
    "With the range computed, now we can quantize the model by calling `quantize` function."
   ]
  },
  {
   "cell_type": "code",
   "execution_count": 12,
   "id": "c713c084",
   "metadata": {},
   "outputs": [],
   "source": [
    "graph = quantize(onnx_model, ranges)"
   ]
  },
  {
   "cell_type": "code",
   "execution_count": 13,
   "id": "2efbda70",
   "metadata": {},
   "outputs": [
    {
     "name": "stdout",
     "output_type": "stream",
     "text": [
      "Help on function quantize in module furiosa.quantizer:\n",
      "\n",
      "quantize(model: Union[onnx.onnx_ml_pb2.ModelProto, bytes], tensor_name_to_range: Mapping[str, Sequence[float]]) -> bytes\n",
      "    Quantize an ONNX model on the basis of the range of its tensors.\n",
      "    \n",
      "    Args:\n",
      "        model (onnx.ModelProto or bytes): An ONNX model to quantize.\n",
      "        tensor_name_to_range (Mapping[str, Sequence[float]]):\n",
      "            A mapping from a tensor name to a 2-tuple (or list) of the\n",
      "            tensor's min and max.\n",
      "    \n",
      "    Returns:\n",
      "        bytes: A serialized ONNX model that incorporates quantization\n",
      "            information.\n",
      "\n"
     ]
    }
   ],
   "source": [
    "help(quantize)"
   ]
  },
  {
   "cell_type": "markdown",
   "id": "d075b65b",
   "metadata": {},
   "source": [
    "In case you want already have calibrated model once and have ranges info, you can save the ranges info inside a file and\n",
    "load it in order to skip calibration phase."
   ]
  },
  {
   "cell_type": "code",
   "execution_count": 14,
   "id": "52a590c4",
   "metadata": {},
   "outputs": [],
   "source": [
    "import json\n",
    "\n",
    "with open(\"ranges.json\", \"w\") as f:\n",
    "    f.write(json.dumps(ranges, indent=4))\n",
    "with open(\"ranges.json\", \"r\") as f:\n",
    "    ranges = json.load(f)\n",
    "\n",
    "graph = quantize(onnx_model, ranges)"
   ]
  },
  {
   "cell_type": "markdown",
   "id": "0cb8149f",
   "metadata": {},
   "source": [
    "## Run Inference with Quantized Model"
   ]
  },
  {
   "cell_type": "markdown",
   "id": "ef30c9da",
   "metadata": {},
   "source": [
    "For quick demonstration, we use randomly chosen 1000 samples from the ImageNet dataset for validation."
   ]
  },
  {
   "cell_type": "code",
   "execution_count": 17,
   "id": "0a6e4798",
   "metadata": {},
   "outputs": [
    {
     "name": "stdout",
     "output_type": "stream",
     "text": [
      "\u001b[2m2024-11-06T04:28:37.908935Z\u001b[0m \u001b[32m INFO\u001b[0m \u001b[2mfuriosa_rt_core::driver::event_driven::coord\u001b[0m\u001b[2m:\u001b[0m FuriosaRT (v0.10.3, rev: 394c19392, built at: 2023-11-22T08:53:04Z) bootstrapping ...\n",
      "\u001b[2m2024-11-06T04:28:37.911196Z\u001b[0m \u001b[32m INFO\u001b[0m \u001b[2mfuriosa_rt_core::driver::event_driven::coord\u001b[0m\u001b[2m:\u001b[0m Found furiosa-compiler (v0.10.1, rev: 8b00177, built at: 2024-05-28T06:18:01Z)\n",
      "\u001b[2m2024-11-06T04:28:37.911201Z\u001b[0m \u001b[32m INFO\u001b[0m \u001b[2mfuriosa_rt_core::driver::event_driven::coord\u001b[0m\u001b[2m:\u001b[0m Found libhal (type: warboy, v0.12.0, rev: 56530c0 built at: 2023-11-16T12:34:03Z)\n",
      "\u001b[2m2024-11-06T04:28:37.911204Z\u001b[0m \u001b[32m INFO\u001b[0m \u001b[2mfuriosa_rt_core::driver::event_driven::coord\u001b[0m\u001b[2m:\u001b[0m [Runtime-1] detected 1 NPU device(s):\n",
      "\u001b[2m2024-11-06T04:28:37.926096Z\u001b[0m \u001b[32m INFO\u001b[0m \u001b[2mfuriosa_rt_core::driver::event_driven::coord\u001b[0m\u001b[2m:\u001b[0m - [0] npu:2:0-1 (warboy-b0-2pe, 128dpes, firmware: 1.7.8, e9f371e)\n",
      "\u001b[2m2024-11-06T04:28:37.926246Z\u001b[0m \u001b[32m INFO\u001b[0m \u001b[2mfuriosa_rt_core::driver::event_driven::coord\u001b[0m\u001b[2m:\u001b[0m [Runtime-1] started\n",
      "\u001b[2m2024-11-06T04:28:42.048183Z\u001b[0m \u001b[32m INFO\u001b[0m \u001b[2mfuriosa::runtime\u001b[0m\u001b[2m:\u001b[0m Saving the compilation log into /home/changmin/.local/state/furiosa/logs/compiler-20241106132842-9tduuw.log\n",
      "\u001b[2m2024-11-06T04:28:42.048325Z\u001b[0m \u001b[32m INFO\u001b[0m \u001b[2mfuriosa_rt_core::driver::event_driven::coord\u001b[0m\u001b[2m:\u001b[0m [Runtime-1] created Sess-276a06a2 using npu:2:0-1\n",
      "\u001b[2m2024-11-06T04:28:42.072397Z\u001b[0m \u001b[32m INFO\u001b[0m \u001b[2mfuriosa_rt_core::driver::event_driven::coord\u001b[0m\u001b[2m:\u001b[0m [Sess-276a06a2] compiling the model (target: warboy-b0-2pe, 128dpes, size: 102.2 MB)\n",
      "\u001b[2m2024-11-06T04:28:43.757697Z\u001b[0m \u001b[32m INFO\u001b[0m \u001b[2mfuriosa_rt_core::driver::event_driven::coord\u001b[0m\u001b[2m:\u001b[0m [Sess-276a06a2] the model compile is successful (took 1 secs)\n",
      "\u001b[2m2024-11-06T04:28:44.075626Z\u001b[0m \u001b[32m INFO\u001b[0m \u001b[2mfuriosa_rt_core::driver::event_driven::coord\u001b[0m\u001b[2m:\u001b[0m [Runtime-1] created 1 NPU threads on npu:2:0-1 (DRAM: 179.2 kiB/16.0 GiB, SRAM: 31.7 MiB/128.0 MiB)\n"
     ]
    },
    {
     "name": "stderr",
     "output_type": "stream",
     "text": [
      "Evaluation: 100%|████████████████████████████████████████████████████████████████████████████████████████████████████████████████████████████████████████████████████████████████████████████████████████| 1000/1000 [00:07<00:00, 130.69images/s]"
     ]
    },
    {
     "name": "stdout",
     "output_type": "stream",
     "text": [
      "\u001b[2m2024-11-06T04:28:51.895377Z\u001b[0m \u001b[32m INFO\u001b[0m \u001b[2mfuriosa_rt_core::driver::event_driven::coord\u001b[0m\u001b[2m:\u001b[0m [Sess-276a06a2] terminated\n",
      "\u001b[2m2024-11-06T04:28:51.903886Z\u001b[0m \u001b[32m INFO\u001b[0m \u001b[2mfuriosa_rt_core::npu::raw\u001b[0m\u001b[2m:\u001b[0m NPU (npu:2:0-1) has been closed\n",
      "\u001b[2m2024-11-06T04:28:51.905481Z\u001b[0m \u001b[32m INFO\u001b[0m \u001b[2mfuriosa_rt_core::driver::event_driven::coord\u001b[0m\u001b[2m:\u001b[0m [Runtime-1] stopped\n"
     ]
    },
    {
     "name": "stderr",
     "output_type": "stream",
     "text": [
      "\n"
     ]
    }
   ],
   "source": [
    "validation_dataset = torch.utils.data.Subset(imagenet, torch.randperm(len(imagenet))[:1000])\n",
    "validation_dataloader = torch.utils.data.DataLoader(validation_dataset, batch_size=1)\n",
    "\n",
    "correct_predictions, total_predictions = 0, 0\n",
    "elapsed_time = 0\n",
    "with create_runner(graph) as runner:\n",
    "    for image, label in tqdm.tqdm(validation_dataloader, desc=\"Evaluation\", unit=\"images\", mininterval=0.5):\n",
    "        image = image.numpy()\n",
    "        start = time.perf_counter_ns()\n",
    "        outputs = runner.run(image)\n",
    "        elapsed_time += time.perf_counter_ns() - start\n",
    "\n",
    "        prediction = np.argmax(outputs[0], axis=1)  # postprocessing\n",
    "        if prediction == label.numpy():\n",
    "            correct_predictions += 1\n",
    "        total_predictions += 1"
   ]
  },
  {
   "cell_type": "code",
   "execution_count": 19,
   "id": "137e2f00",
   "metadata": {},
   "outputs": [
    {
     "name": "stdout",
     "output_type": "stream",
     "text": [
      "Accuracy: 81.700000%\n",
      "Average Latency: 2.742279548 ms\n"
     ]
    }
   ],
   "source": [
    "accuracy = correct_predictions / total_predictions\n",
    "print(f\"Accuracy: {accuracy:%}\")\n",
    "\n",
    "latency = elapsed_time / total_predictions\n",
    "print(f\"Average Latency: {latency / 1_000_000} ms\")"
   ]
  }
 ],
 "metadata": {
  "kernelspec": {
   "display_name": "Python 3 (ipykernel)",
   "language": "python",
   "name": "python3"
  },
  "language_info": {
   "codemirror_mode": {
    "name": "ipython",
    "version": 3
   },
   "file_extension": ".py",
   "mimetype": "text/x-python",
   "name": "python",
   "nbconvert_exporter": "python",
   "pygments_lexer": "ipython3",
   "version": "3.9.19"
  },
  "vscode": {
   "interpreter": {
    "hash": "916dbcbb3f70747c44a77c7bcd40155683ae19c65e1c03b4aa3499c5328201f1"
   }
  }
 },
 "nbformat": 4,
 "nbformat_minor": 5
}
